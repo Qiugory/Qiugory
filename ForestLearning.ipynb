{
 "cells": [
  {
   "cell_type": "code",
   "execution_count": 3,
   "id": "ff78d845",
   "metadata": {},
   "outputs": [],
   "source": [
    "import numpy as np \n",
    "import pandas as pd\n",
    "import econml"
   ]
  },
  {
   "cell_type": "markdown",
   "id": "ce3e135b",
   "metadata": {},
   "source": [
    "# Data Generating"
   ]
  },
  {
   "cell_type": "code",
   "execution_count": 3,
   "id": "6e22b29d",
   "metadata": {},
   "outputs": [],
   "source": [
    "X = np.random.random((100,3))"
   ]
  },
  {
   "cell_type": "code",
   "execution_count": 4,
   "id": "85cb1b62",
   "metadata": {},
   "outputs": [],
   "source": [
    "T = X.sum(axis = 1) + np.random.random((1,100))\n",
    "T = T.T"
   ]
  },
  {
   "cell_type": "code",
   "execution_count": 5,
   "id": "db558a4f",
   "metadata": {},
   "outputs": [],
   "source": [
    "df = pd.DataFrame({'x1':list(X[:,0]),\n",
    "                  'x2':list(X[:,1]),\n",
    "                  'x3':list(X[:,2]),\n",
    "                  't':list(T)})"
   ]
  },
  {
   "cell_type": "code",
   "execution_count": 6,
   "id": "fb2657f0",
   "metadata": {},
   "outputs": [],
   "source": [
    "df['ite'] = (df['x1'] - df['x2']) * df['x3']\n",
    "df['y'] = df['t'] * df['ite'] + (df['x1'] * df['x2'] - df['x3'])"
   ]
  },
  {
   "cell_type": "markdown",
   "id": "6339a587",
   "metadata": {},
   "source": [
    "# do-why"
   ]
  },
  {
   "cell_type": "code",
   "execution_count": null,
   "id": "fde39ed8",
   "metadata": {},
   "outputs": [],
   "source": []
  }
 ],
 "metadata": {
  "kernelspec": {
   "display_name": "Python 3",
   "language": "python",
   "name": "python3"
  },
  "language_info": {
   "codemirror_mode": {
    "name": "ipython",
    "version": 3
   },
   "file_extension": ".py",
   "mimetype": "text/x-python",
   "name": "python",
   "nbconvert_exporter": "python",
   "pygments_lexer": "ipython3",
   "version": "3.8.13"
  },
  "toc": {
   "base_numbering": 1,
   "nav_menu": {},
   "number_sections": true,
   "sideBar": true,
   "skip_h1_title": false,
   "title_cell": "Table of Contents",
   "title_sidebar": "Contents",
   "toc_cell": false,
   "toc_position": {},
   "toc_section_display": true,
   "toc_window_display": false
  }
 },
 "nbformat": 4,
 "nbformat_minor": 5
}
